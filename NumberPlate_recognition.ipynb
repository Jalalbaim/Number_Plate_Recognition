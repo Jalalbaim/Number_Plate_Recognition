{
  "nbformat": 4,
  "nbformat_minor": 0,
  "metadata": {
    "colab": {
      "provenance": [],
      "gpuType": "T4",
      "include_colab_link": true
    },
    "kernelspec": {
      "name": "python3",
      "display_name": "Python 3"
    },
    "language_info": {
      "name": "python"
    },
    "accelerator": "GPU"
  },
  "cells": [
    {
      "cell_type": "markdown",
      "metadata": {
        "id": "view-in-github",
        "colab_type": "text"
      },
      "source": [
        "<a href=\"https://colab.research.google.com/github/Jalalbaim/Number_Plate_Recognition/blob/main/NumberPlate_recognition.ipynb\" target=\"_parent\"><img src=\"https://colab.research.google.com/assets/colab-badge.svg\" alt=\"Open In Colab\"/></a>"
      ]
    },
    {
      "cell_type": "code",
      "execution_count": 1,
      "metadata": {
        "id": "o9QtQG_EHNrT",
        "colab": {
          "base_uri": "https://localhost:8080/"
        },
        "outputId": "f722514d-9859-4b8e-9b29-e6eb425029d8"
      },
      "outputs": [
        {
          "output_type": "stream",
          "name": "stdout",
          "text": [
            "Collecting opendatasets\n",
            "  Downloading opendatasets-0.1.22-py3-none-any.whl (15 kB)\n",
            "Requirement already satisfied: tqdm in /usr/local/lib/python3.10/dist-packages (from opendatasets) (4.66.1)\n",
            "Requirement already satisfied: kaggle in /usr/local/lib/python3.10/dist-packages (from opendatasets) (1.5.16)\n",
            "Requirement already satisfied: click in /usr/local/lib/python3.10/dist-packages (from opendatasets) (8.1.7)\n",
            "Requirement already satisfied: six>=1.10 in /usr/local/lib/python3.10/dist-packages (from kaggle->opendatasets) (1.16.0)\n",
            "Requirement already satisfied: certifi in /usr/local/lib/python3.10/dist-packages (from kaggle->opendatasets) (2023.7.22)\n",
            "Requirement already satisfied: python-dateutil in /usr/local/lib/python3.10/dist-packages (from kaggle->opendatasets) (2.8.2)\n",
            "Requirement already satisfied: requests in /usr/local/lib/python3.10/dist-packages (from kaggle->opendatasets) (2.31.0)\n",
            "Requirement already satisfied: python-slugify in /usr/local/lib/python3.10/dist-packages (from kaggle->opendatasets) (8.0.1)\n",
            "Requirement already satisfied: urllib3 in /usr/local/lib/python3.10/dist-packages (from kaggle->opendatasets) (2.0.6)\n",
            "Requirement already satisfied: bleach in /usr/local/lib/python3.10/dist-packages (from kaggle->opendatasets) (6.0.0)\n",
            "Requirement already satisfied: webencodings in /usr/local/lib/python3.10/dist-packages (from bleach->kaggle->opendatasets) (0.5.1)\n",
            "Requirement already satisfied: text-unidecode>=1.3 in /usr/local/lib/python3.10/dist-packages (from python-slugify->kaggle->opendatasets) (1.3)\n",
            "Requirement already satisfied: charset-normalizer<4,>=2 in /usr/local/lib/python3.10/dist-packages (from requests->kaggle->opendatasets) (3.3.0)\n",
            "Requirement already satisfied: idna<4,>=2.5 in /usr/local/lib/python3.10/dist-packages (from requests->kaggle->opendatasets) (3.4)\n",
            "Installing collected packages: opendatasets\n",
            "Successfully installed opendatasets-0.1.22\n"
          ]
        }
      ],
      "source": [
        "!pip install opendatasets"
      ]
    },
    {
      "cell_type": "code",
      "source": [
        "import opendatasets as od\n",
        "import os\n",
        "#d4e1456f66ac2f1379f227353e8a10fc\n",
        "od.download(\"https://www.kaggle.com/datasets/otoluk/latvian-car-number-plates\")"
      ],
      "metadata": {
        "id": "oX6UK-YaHPnR",
        "colab": {
          "base_uri": "https://localhost:8080/"
        },
        "outputId": "f49fc7e0-0e8b-4030-dde6-8452a20da59b"
      },
      "execution_count": 2,
      "outputs": [
        {
          "output_type": "stream",
          "name": "stdout",
          "text": [
            "Please provide your Kaggle credentials to download this dataset. Learn more: http://bit.ly/kaggle-creds\n",
            "Your Kaggle username: mohamedjalalbaim\n",
            "Your Kaggle Key: ··········\n",
            "Downloading latvian-car-number-plates.zip to ./latvian-car-number-plates\n"
          ]
        },
        {
          "output_type": "stream",
          "name": "stderr",
          "text": [
            "100%|██████████| 5.15M/5.15M [00:01<00:00, 3.86MB/s]\n"
          ]
        },
        {
          "output_type": "stream",
          "name": "stdout",
          "text": [
            "\n"
          ]
        }
      ]
    },
    {
      "cell_type": "code",
      "source": [
        "import matplotlib.pyplot as plt\n",
        "import numpy as np\n",
        "import matplotlib.image as mpimg\n",
        "\n",
        "import tensorflow as tf\n",
        "import cv2\n",
        "from tensorflow import keras"
      ],
      "metadata": {
        "id": "JAaVK9cDHoNA"
      },
      "execution_count": 3,
      "outputs": []
    },
    {
      "cell_type": "code",
      "source": [
        "# Exploring data\n",
        "data = '/content/latvian-car-number-plates/EU-flag/A-1.png'\n",
        "img = cv2.imread(data)\n",
        "image_rgb = cv2.cvtColor(img, cv2.COLOR_BGR2RGB)\n",
        "plt.imshow(image_rgb)\n",
        "plt.axis('off')\n",
        "plt.show()"
      ],
      "metadata": {
        "id": "zJoscok1aQ4t",
        "outputId": "8e4e7031-f3b8-443b-c6ce-72f935119086",
        "colab": {
          "base_uri": "https://localhost:8080/",
          "height": 142
        }
      },
      "execution_count": 4,
      "outputs": [
        {
          "output_type": "display_data",
          "data": {
            "text/plain": [
              "<Figure size 640x480 with 1 Axes>"
            ],
            "image/png": "[encoded data removed]"
          },
          "metadata": {}
        }
      ]
    },
    {
      "cell_type": "code",
      "source": [
        "# Background correction\n",
        "\n",
        "def bck_corr(img):\n",
        "  # image doit etre lue en grayscale\n",
        "  s = cv2.getStructuringElement(cv2.MORPH_ELLIPSE, (35, 35))\n",
        "  img_sns_imgond = cv2.morphologyEx(img, cv2.MORPH_CLOSE, s)\n",
        "  img_correction = img_sns_imgond - img\n",
        "  return img_correction\n",
        "\n",
        "# test\n",
        "f = cv2.imread(data, cv2.IMREAD_GRAYSCALE)\n",
        "f_corrige = bck_corr(f)\n",
        "plt.imshow(f_corrige)\n",
        "plt.axis('off')\n",
        "plt.show()\n"
      ],
      "metadata": {
        "id": "lJ5yBllPbpMp",
        "outputId": "7d9cb63e-c84d-4119-d6c4-da5a18b53223",
        "colab": {
          "base_uri": "https://localhost:8080/",
          "height": 142
        }
      },
      "execution_count": 5,
      "outputs": [
        {
          "output_type": "display_data",
          "data": {
            "text/plain": [
              "<Figure size 640x480 with 1 Axes>"
            ],
            "image/png": "[encoded data removed]"
          },
          "metadata": {}
        }
      ]
    },
    {
      "cell_type": "code",
      "source": [
        "# segmentation\n",
        "def segmentation(img):\n",
        "  _, image_segmentee = cv2.threshold(img, 0, 255, cv2.THRESH_BINARY + cv2.THRESH_OTSU)\n",
        "  # post traitement\n",
        "  so = cv2.getStructuringElement(cv2.MORPH_ELLIPSE, (2, 2))\n",
        "  f_open = cv2.morphologyEx(image_segmentee, cv2.MORPH_OPEN, so)\n",
        "  return f_open\n",
        "\n",
        "# test\n",
        "f_open = segmentation(f_corrige)\n",
        "plt.imshow(f_open)\n",
        "plt.axis('off')\n",
        "plt.show()"
      ],
      "metadata": {
        "id": "9Z6jvL03cyDW",
        "outputId": "ca614a44-151a-42e9-cba3-565902ef0dee",
        "colab": {
          "base_uri": "https://localhost:8080/",
          "height": 142
        }
      },
      "execution_count": 6,
      "outputs": [
        {
          "output_type": "display_data",
          "data": {
            "text/plain": [
              "<Figure size 640x480 with 1 Axes>"
            ],
            "image/png": "[encoded data removed]"
          },
          "metadata": {}
        }
      ]
    },
    {
      "cell_type": "code",
      "source": [
        "# etiquetatge de l'image\n",
        "def labeling(img):\n",
        "  x1, y1, x2, y2 = 49, 10, 310, 61\n",
        "  f_crop = img[y1:y2, x1:x2]\n",
        "\n",
        "  _, labels, stats, centroids = cv2.connectedComponentsWithStats(f_crop, connectivity=4)\n",
        "\n",
        "  regions_path = []\n",
        "  # crop regions\n",
        "  for label in range(1, labels.max() + 1):\n",
        "    mask = (labels == label).astype(np.uint8)\n",
        "    region_cropee = cv2.bitwise_and(f_crop, f_crop, mask=mask)\n",
        "    nom_fichier = f\"/content/latvian-car-number-plates/regions/region_{label}.png\"\n",
        "    cv2.imwrite(nom_fichier, region_cropee)\n",
        "    regions_path.append(nom_fichier)\n",
        "\n",
        "  return regions_path\n"
      ],
      "metadata": {
        "id": "Soe8GKvpf3Us"
      },
      "execution_count": 14,
      "outputs": []
    },
    {
      "cell_type": "code",
      "source": [
        "l = labeling(f_open)\n",
        "l"
      ],
      "metadata": {
        "id": "Y-l7bSJFosIy",
        "outputId": "b81c5027-f9a9-493a-8f2f-67fb4f63cfce",
        "colab": {
          "base_uri": "https://localhost:8080/"
        }
      },
      "execution_count": 15,
      "outputs": [
        {
          "output_type": "execute_result",
          "data": {
            "text/plain": [
              "['/content/latvian-car-number-plates/regions/region_1.png',\n",
              " '/content/latvian-car-number-plates/regions/region_2.png',\n",
              " '/content/latvian-car-number-plates/regions/region_3.png']"
            ]
          },
          "metadata": {},
          "execution_count": 15
        }
      ]
    }
  ]
}