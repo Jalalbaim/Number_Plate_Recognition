{
  "nbformat": 4,
  "nbformat_minor": 0,
  "metadata": {
    "colab": {
      "provenance": [],
      "authorship_tag": "ABX9TyOpFlVOl8tQh+0xE78Jr1cW",
      "include_colab_link": true
    },
    "kernelspec": {
      "name": "python3",
      "display_name": "Python 3"
    },
    "language_info": {
      "name": "python"
    }
  },
  "cells": [
    {
      "cell_type": "markdown",
      "metadata": {
        "id": "view-in-github",
        "colab_type": "text"
      },
      "source": [
        "<a href=\"https://colab.research.google.com/github/Jalalbaim/Number_Plate_Recognition/blob/main/NumberPlate_recognition.ipynb\" target=\"_parent\"><img src=\"https://colab.research.google.com/assets/colab-badge.svg\" alt=\"Open In Colab\"/></a>"
      ]
    },
    {
      "cell_type": "code",
      "execution_count": null,
      "metadata": {
        "id": "o9QtQG_EHNrT"
      },
      "outputs": [],
      "source": [
        "!pip install opendatasets"
      ]
    },
    {
      "cell_type": "code",
      "source": [
        "import opendatasets as od\n",
        "import os\n",
        "\n",
        "od.download(\"https://www.kaggle.com/datasets/andrewmvd/car-plate-detection\")"
      ],
      "metadata": {
        "id": "oX6UK-YaHPnR"
      },
      "execution_count": null,
      "outputs": []
    },
    {
      "cell_type": "code",
      "source": [
        "import matplotlib.pyplot as plt\n",
        "import numpy as np\n",
        "import matplotlib.image as mpimg\n",
        "\n",
        "import tensorflow as tf\n",
        "from tensorflow import keras"
      ],
      "metadata": {
        "id": "JAaVK9cDHoNA"
      },
      "execution_count": null,
      "outputs": []
    },
    {
      "cell_type": "code",
      "source": [
        "from keras.preprocessing.image import ImageDataGenerator\n",
        "datagen = ImageDataGenerator(\n",
        "    rescale = 1.0/255.0,\n",
        "    rotation_range = 10,\n",
        "    width_shift_range=0.1,\n",
        "    height_shift_range=0.1,\n",
        "    brightness_range=(0.7, 1.5),\n",
        "    zoom_range=[0.95, 1.05]\n",
        ")"
      ],
      "metadata": {
        "id": "sPxxeYT6HpME"
      },
      "execution_count": null,
      "outputs": []
    },
    {
      "cell_type": "code",
      "source": [
        "# Train data\n",
        "data = '/content/car-plate-detection/images'\n",
        "img_data = datagen.flow_from_directory(\n",
        "    data,\n",
        "    batch_size=32,\n",
        "    target_size=(224, 224),\n",
        "    class_mode='categorical'\n",
        ")"
      ],
      "metadata": {
        "id": "iZO9wZjuHtkQ",
        "colab": {
          "base_uri": "https://localhost:8080/"
        },
        "outputId": "90723074-fc2c-4770-ea14-004a9f5865b3"
      },
      "execution_count": 7,
      "outputs": [
        {
          "output_type": "stream",
          "name": "stdout",
          "text": [
            "Found 0 images belonging to 0 classes.\n"
          ]
        }
      ]
    },
    {
      "cell_type": "code",
      "source": [
        "# Discovering Datasets\n",
        "batch_size = 32\n",
        "for i in range(10):\n",
        "    img, labels = img_data.next()\n",
        "    if img.shape[0] == 32:\n",
        "        print(img.shape)\n",
        "        plt.imshow(np.squeeze(img[i]))\n",
        "        plt.show()"
      ],
      "metadata": {
        "id": "XpfMPRTMH8Oa"
      },
      "execution_count": 8,
      "outputs": []
    }
  ]
}